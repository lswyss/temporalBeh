{
 "cells": [
  {
   "cell_type": "code",
   "execution_count": null,
   "metadata": {},
   "outputs": [],
   "source": [
    "import pickle \n",
    "import numpy as np\n",
    "import matplotlib.pyplot as plt\n",
    "plt.rcParams['svg.fonttype']='none'"
   ]
  },
  {
   "cell_type": "markdown",
   "metadata": {},
   "source": [
    "# Data Analysis for LDS_sinWave\n",
    "\n",
    "Data is initally in LDS_sinWave_v3 then compiled to LDS_sinWave\n",
    "\n",
    "resegmented data using more rigid segmenting (smaller search area = 100) and wont store two of the same locations \n",
    "size of tau = 14400 \n"
   ]
  },
  {
   "cell_type": "code",
   "execution_count": 1,
   "metadata": {},
   "outputs": [
    {
     "data": {
      "text/plain": [
       "dict_keys(['tau', '071323WT_30m_4.2mPeriod', '071323WT_30m_3.3mPeriod', '092123WT_30m_3.5mPeriod', '092123WT_30m_2.9mPeriod', '081823WT_30m_2mPeriod', '081823WT_30m_4mPeriod', '081823WT_30m_3mPeriod', '081123WT_30m_2mPeriod', '081123WT_30m_4mPeriod', '081123WT_30m_3mPeriod', '012724WT_30m_3.2mPeriod', '012724WT_30m_2.95mPeriod', '013024WT_30m_3.4mPeriod', '020224WT_30m_3.4mPeriod', '020224WT_30m_3.25mPeriod', '072123WT_30m_3.1mPeriod', '013024WT_30m_3.6mPeriod', '030824spp1_30m_3.1mPeriod', '030824spp1_30m_3.3mPeriod', '030824spp1_30m_3mPeriod', '031424spp1_30m_3.5mPeriod', '031424spp1_30m_2.8mPeriod', '031424spp1_30m_3mPeriod', '031424ppp1_30m_3.4mPeriod', '031424ppp1_30m_2.7mPeriod', '031424ppp1_30m_3mPeriod', '030824ppp1_30m_2.9mPeriod', '030824ppp1_30m_3.2mPeriod', '030824ppp1_30m_3mPeriod', '031124ppp1_30m_3.1mPeriod', '031124ppp1_30m_3.3mPeriod', '031124ppp1_30m_3mPeriod', '040524ppp1_30m_3.5mPeriod', '040524ppp1_30m_2.8mPeriod', '040524ppp1_30m_3mPeriod', '040524spp1_30m_3.4mPeriod', '040524spp1_30m_2.7mPeriod', '040524spp1_30m_3mPeriod', '071023WT_30m_3.5mPeriod', '071723WT_30m_2.7mPeriod', '071723WT_30m_2mPeriod', '072123WT_30m_4mPeriod', '072123WT_30m_3.2mPeriod', '070323chat_30m_3.75mPeriod', '070323chat_30m_4.3mPeriod', '071723WT_30m_2.1mPeriod', '080123WT_30m_4mPeriod', '062923WT_30m_3.75mPeriod', '062923WT_30m_4.3mPeriod', '062923WT_30m_2.7mPeriod', '071323WT_30m_4.3mPeriod', '071323WT_30m_4.7mPeriod', '062323chat_30m_3.5mPeriod', '062323chat_30m_2.5mPeriod', '062323chat_30m_4.5mPeriod', '062623chat_60m_2.1mPeriod', '062623chat_60m_2.3mPeriod', '062623chat_60m_2.7mPeriod', '062323chat_30m_3.7mPeriod', '062323chat_30m_3.3mPeriod', '062323chat_30m_3.1mPeriod', '071023WT_30m_2.3mPeriod', '071023WT_30m_2.5mPeriod'])"
      ]
     },
     "execution_count": 1,
     "metadata": {},
     "output_type": "execute_result"
    }
   ],
   "source": [
    "import pickle \n",
    "import matplotlib.pyplot as plt\n",
    "plt.rcParams['svg.fonttype']='none'\n",
    "\n",
    "with open('../data/LDS_response_sinFunc.pickle', 'rb') as f:\n",
    "    test_result = pickle.load(f)\n",
    "\n",
    "test_result.keys()"
   ]
  },
  {
   "cell_type": "markdown",
   "metadata": {},
   "source": [
    "# SineWaves aggregated time trace\n",
    "2024.04.24 plotting averaged bootstrapped Sine Waves, from the response_sinFunc.pickle\n"
   ]
  },
  {
   "cell_type": "markdown",
   "metadata": {},
   "source": [
    "### `response_sin` Function Parameters\n",
    "\n",
    "This function `response_sin` is designed to compute responses based on sinusoidal or other experimental inputs and plot the results with statistical analysis. \n",
    "\n",
    "- **`interest_list`** (`list` of `str`): A list of strings specifying the experiments \n",
    "\n",
    "- **`exclude`** (`list` of `str`): A list of strings representing data categories or conditions to be excluded \n",
    "\n",
    "- **`periods`** (`list` of `float`, optional): A list of time periods (in minutes) to analyze. Default periods are `[ 3, 4, 5,]`\n",
    "\n",
    "- **`duration`** (`int`): The duration of each experiment in minutes. Default is 30m\n",
    "\n",
    "- **`n_boot`** (`float`): The number of bootstrap samples to use for statistical analysis. Default is 1000\n",
    "\n",
    "- **`statistic`** (`function`, optional): A function to compute the desired statistic during the bootstrap analysis. The default is `np.median`, which calculates the median of the bootstrap samples.\n",
    "\n",
    "- **`conf_interval`** (`int`): The confidence interval percentage (e.g., 95) for the bootstrap analysis. This defines the certainty level p < 0.05\n",
    "\n",
    "- **`t_samp`** (`tuple` of `int`): A tuple representing the time sampling window (start, end) for the analysis, given in minutes.\n"
   ]
  },
  {
   "cell_type": "code",
   "execution_count": 1,
   "metadata": {},
   "outputs": [
    {
     "ename": "NameError",
     "evalue": "name 'plt' is not defined",
     "output_type": "error",
     "traceback": [
      "\u001b[0;31m---------------------------------------------------------------------------\u001b[0m",
      "\u001b[0;31mNameError\u001b[0m                                 Traceback (most recent call last)",
      "\u001b[0;32m<ipython-input-1-072138e36daa>\u001b[0m in \u001b[0;36m<module>\u001b[0;34m\u001b[0m\n\u001b[1;32m      9\u001b[0m \u001b[0;31m# Now you can import your modules from any subdirectory within the project\u001b[0m\u001b[0;34m\u001b[0m\u001b[0;34m\u001b[0m\u001b[0;34m\u001b[0m\u001b[0m\n\u001b[1;32m     10\u001b[0m \u001b[0;32mfrom\u001b[0m \u001b[0manalysis_functions\u001b[0m\u001b[0;34m.\u001b[0m\u001b[0mresults_sin_compile\u001b[0m \u001b[0;32mimport\u001b[0m \u001b[0mresponse_sin\u001b[0m\u001b[0;34m\u001b[0m\u001b[0;34m\u001b[0m\u001b[0m\n\u001b[0;32m---> 11\u001b[0;31m \u001b[0mplt\u001b[0m\u001b[0;34m.\u001b[0m\u001b[0mrcParams\u001b[0m\u001b[0;34m[\u001b[0m\u001b[0;34m'svg.fonttype'\u001b[0m\u001b[0;34m]\u001b[0m \u001b[0;34m=\u001b[0m \u001b[0;34m'none'\u001b[0m\u001b[0;34m\u001b[0m\u001b[0;34m\u001b[0m\u001b[0m\n\u001b[0m\u001b[1;32m     12\u001b[0m \u001b[0mget_ipython\u001b[0m\u001b[0;34m(\u001b[0m\u001b[0;34m)\u001b[0m\u001b[0;34m.\u001b[0m\u001b[0mrun_line_magic\u001b[0m\u001b[0;34m(\u001b[0m\u001b[0;34m'matplotlib'\u001b[0m\u001b[0;34m,\u001b[0m \u001b[0;34m'inline'\u001b[0m\u001b[0;34m)\u001b[0m\u001b[0;34m\u001b[0m\u001b[0;34m\u001b[0m\u001b[0m\n\u001b[1;32m     13\u001b[0m \u001b[0;34m\u001b[0m\u001b[0m\n",
      "\u001b[0;31mNameError\u001b[0m: name 'plt' is not defined"
     ]
    }
   ],
   "source": [
    "import sys\n",
    "# This is the path to the root of your project \"beh_timescale\"\n",
    "project_path = '/home/sam/Desktop/beh_timescale'\n",
    "\n",
    "# Add this path to sys.path to allow importing from the subdirectories\n",
    "if project_path not in sys.path:\n",
    "    sys.path.append(project_path)\n",
    "\n",
    "# Now you can import your modules from any subdirectory within the project\n",
    "import numpy as np\n",
    "import matplotlib.pyplot as plt\n",
    "from analysis_functions.results_sin_compile import response_sin\n",
    "plt.rcParams['svg.fonttype'] = 'none'\n",
    "%matplotlib inline\n",
    "\n",
    "periods = [2.7, 2.8, 2.9, 3, 3.1, 3.2, 3.3, 3.4, 3.5]\n",
    "interest = ['chat']\n",
    "\n",
    "fig, ax = response_sin(interest, exclude=['day'], periods=periods, n_boot=1e3, t_samp=(-3, 40))\n",
    "\n",
    "# Display the plot\n",
    "plt.show()"
   ]
  },
  {
   "cell_type": "code",
   "execution_count": null,
   "metadata": {},
   "outputs": [],
   "source": [
    "#Save images\n",
    "plt.rcParams['svg.fonttype']='none'\n",
    "fig.savefig('plots/2023.06_SinWaves/SinWaves_Chatfrequencies_2.7to3.7.svg')"
   ]
  },
  {
   "cell_type": "markdown",
   "metadata": {},
   "source": []
  }
 ],
 "metadata": {
  "kernelspec": {
   "display_name": "imgBehavior-tf",
   "language": "python",
   "name": "python3"
  },
  "language_info": {
   "codemirror_mode": {
    "name": "ipython",
    "version": 3
   },
   "file_extension": ".py",
   "mimetype": "text/x-python",
   "name": "python",
   "nbconvert_exporter": "python",
   "pygments_lexer": "ipython3",
   "version": "3.7.4"
  },
  "orig_nbformat": 4
 },
 "nbformat": 4,
 "nbformat_minor": 2
}
