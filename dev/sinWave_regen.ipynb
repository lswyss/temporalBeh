{
 "cells": [
  {
   "cell_type": "code",
   "execution_count": null,
   "metadata": {},
   "outputs": [],
   "source": [
    "import pickle\n",
    "with open('data/LDS_response_sinFunc_regen.pickle', 'rb') as f:\n",
    "    test_result = pickle.load(f)\n",
    "\n",
    "test_result.keys()"
   ]
  },
  {
   "cell_type": "code",
   "execution_count": null,
   "metadata": {},
   "outputs": [],
   "source": [
    "from tools.results_sin import response_sin\n",
    "%matplotlib inline\n",
    "import matplotlib.pyplot as plt\n",
    "\n",
    "interest = []\n",
    "fig,ax=response_sin(interest,exclude=[],periods=periods,n_boot=1e0,derivative=120,visible=0,\n",
    "                  t_samp=(-3,40),plot_indiv_trial=False)"
   ]
  }
 ],
 "metadata": {
  "language_info": {
   "name": "python"
  },
  "orig_nbformat": 4
 },
 "nbformat": 4,
 "nbformat_minor": 2
}
